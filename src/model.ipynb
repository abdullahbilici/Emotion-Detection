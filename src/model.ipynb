{
 "cells": [
  {
   "cell_type": "code",
   "execution_count": 1,
   "metadata": {},
   "outputs": [],
   "source": [
    "import numpy as np\n",
    "from matplotlib import pyplot as plt\n",
    "import torch\n",
    "from torch import nn\n",
    "from torch.nn import functional as F\n",
    "from torch import optim\n",
    "from sklearn.model_selection import train_test_split\n",
    "from torch.utils.data import TensorDataset, DataLoader"
   ]
  },
  {
   "cell_type": "code",
   "execution_count": 2,
   "metadata": {},
   "outputs": [],
   "source": [
    "data_path = \"../data/data.npz\"\n",
    "data = np.load(data_path)\n",
    "\n",
    "data_ai_path = \"../data/data_ai.npz\"\n",
    "data_ai = np.load(data_ai_path)\n",
    "\n",
    "X = np.concatenate([data[\"data\"], data_ai[\"data\"]], axis = 0)\n",
    "target = np.concatenate([data[\"target\"], data_ai[\"target\"]], axis = 0)"
   ]
  },
  {
   "cell_type": "code",
   "execution_count": 3,
   "metadata": {},
   "outputs": [],
   "source": [
    "X_train, X_test, y_train, y_test = train_test_split(X, target, test_size=0.3)\n",
    "\n",
    "X_train_tensor = torch.tensor(X_train).view(-1,1,128,128)\n",
    "y_train_tensor = torch.tensor(y_train)\n",
    "\n",
    "X_test_tensor = torch.tensor(X_test).view(-1,1,128,128)\n",
    "y_test_tensor = torch.tensor(y_test)\n",
    "\n",
    "train_dataset = TensorDataset(X_train_tensor, y_train_tensor)\n",
    "train_loader = DataLoader(train_dataset, batch_size=8, shuffle=True)"
   ]
  },
  {
   "cell_type": "code",
   "execution_count": 4,
   "metadata": {},
   "outputs": [
    {
     "data": {
      "text/plain": [
       "1052324"
      ]
     },
     "execution_count": 4,
     "metadata": {},
     "output_type": "execute_result"
    }
   ],
   "source": [
    "class CNN(nn.Module):\n",
    "    def __init__(self, number_of_emotions = 4):\n",
    "        super(CNN, self).__init__()\n",
    "        \n",
    "        self.conv_layers = nn.Sequential(\n",
    "            nn.Conv2d(1, 8, kernel_size=5, padding=2),\n",
    "            nn.ReLU(),\n",
    "            nn.MaxPool2d(2, 2),\n",
    "            nn.Conv2d(8, 16, kernel_size=5, padding=2),  # Adjust based on your input 64x64\n",
    "            nn.ReLU(),\n",
    "            nn.MaxPool2d(2, 2),\n",
    "            # nn.Conv2d(8, 16, kernel_size=3, padding=1),  # Adjust based on your input 64x64\n",
    "            # nn.ReLU(),\n",
    "            # nn.MaxPool2d(2, 2),\n",
    "        )\n",
    "\n",
    "        self.fc1 = nn.Linear(16 * 32 * 32, 64)  # Adjust this\n",
    "        self.dropout = nn.Dropout(p = 0.35)\n",
    "        self.fc2 = nn.Linear(64, number_of_emotions)  # Adjust number_of_emotions based on your data\n",
    "\n",
    "    def forward(self, x):\n",
    "        x = self.conv_layers(x)\n",
    "        \n",
    "        x = x.view(x.size(0), -1)  # Flatten the tensor\n",
    "\n",
    "        x = F.relu(self.fc1(x))\n",
    "        x = self.dropout(x)\n",
    "        x = self.fc2(x)\n",
    "        return x\n",
    "    \n",
    "model = CNN()\n",
    "n_parameters = sum(p.numel() for p in model.parameters())\n",
    "n_parameters"
   ]
  },
  {
   "cell_type": "code",
   "execution_count": null,
   "metadata": {},
   "outputs": [],
   "source": []
  },
  {
   "cell_type": "code",
   "execution_count": null,
   "metadata": {},
   "outputs": [],
   "source": []
  },
  {
   "cell_type": "code",
   "execution_count": null,
   "metadata": {},
   "outputs": [],
   "source": []
  },
  {
   "cell_type": "code",
   "execution_count": null,
   "metadata": {},
   "outputs": [],
   "source": []
  }
 ],
 "metadata": {
  "kernelspec": {
   "display_name": "Python 3",
   "language": "python",
   "name": "python3"
  },
  "language_info": {
   "codemirror_mode": {
    "name": "ipython",
    "version": 3
   },
   "file_extension": ".py",
   "mimetype": "text/x-python",
   "name": "python",
   "nbconvert_exporter": "python",
   "pygments_lexer": "ipython3",
   "version": "3.11.7"
  }
 },
 "nbformat": 4,
 "nbformat_minor": 2
}
